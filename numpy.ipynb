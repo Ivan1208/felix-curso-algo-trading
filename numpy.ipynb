{
 "cells": [
  {
   "cell_type": "markdown",
   "metadata": {},
   "source": [
    "# Numpy"
   ]
  },
  {
   "cell_type": "code",
   "execution_count": 1,
   "metadata": {},
   "outputs": [
    {
     "name": "stdout",
     "output_type": "stream",
     "text": [
      "Array with Rank 1: \n",
      " [1 2 3]\n",
      "Array with Rank 2: \n",
      " [[1 2 3]\n",
      " [4 5 6]]\n",
      "[6]\n",
      "[1 5 6]\n"
     ]
    }
   ],
   "source": [
    "import numpy as np\n",
    "\n",
    "arr = np.array([1 , 2 , 3])\n",
    "print(\"Array with Rank 1: \\n\" , arr)\n",
    "\n",
    "# creando un array de rango 2 que corresponde con una matriz de dimension 2\n",
    "\n",
    "arr = np.array([[1 , 2 , 3] , \n",
    "               [4 , 5 , 6]])\n",
    "print(\"Array with Rank 2: \\n\" , arr)\n",
    "\n",
    "# podemos acceder a elementos especificos de deichas matrices\n",
    "\n",
    "index_arr = arr[[1] , [2]] # [fila] , [columna] [n + 1]\n",
    "print(index_arr)\n",
    "\n",
    "# podemos acceder a diferentes elementos a la vez\n",
    "\n",
    "new_index_arr = arr[[0 , 1 , 1] , [0 , 1 , 2]] # elemento de el primer [a ,  b] , con el segundo [a* , b*]\n",
    "print(new_index_arr)"
   ]
  },
  {
   "cell_type": "code",
   "execution_count": null,
   "metadata": {},
   "outputs": [],
   "source": []
  }
 ],
 "metadata": {
  "kernelspec": {
   "display_name": "Python 3",
   "language": "python",
   "name": "python3"
  },
  "language_info": {
   "codemirror_mode": {
    "name": "ipython",
    "version": 3
   },
   "file_extension": ".py",
   "mimetype": "text/x-python",
   "name": "python",
   "nbconvert_exporter": "python",
   "pygments_lexer": "ipython3",
   "version": "3.11.9"
  }
 },
 "nbformat": 4,
 "nbformat_minor": 2
}
